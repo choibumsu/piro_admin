{
 "cells": [
  {
   "cell_type": "code",
   "execution_count": 144,
   "metadata": {},
   "outputs": [
    {
     "name": "stdout",
     "output_type": "stream",
     "text": [
      "))()((\n"
     ]
    }
   ],
   "source": [
    "p = input()"
   ]
  },
  {
   "cell_type": "code",
   "execution_count": 145,
   "metadata": {},
   "outputs": [
    {
     "data": {
      "text/plain": [
       "'))()(('"
      ]
     },
     "execution_count": 145,
     "metadata": {},
     "output_type": "execute_result"
    }
   ],
   "source": [
    "p"
   ]
  },
  {
   "cell_type": "code",
   "execution_count": 150,
   "metadata": {},
   "outputs": [],
   "source": [
    "def check_complete(sub_p):\n",
    "    check = 0\n",
    "    for item in sub_p:\n",
    "        if item == \"(\":\n",
    "            check += 1\n",
    "        else:\n",
    "            check -= 1\n",
    "            \n",
    "        if check < 0:\n",
    "            return False\n",
    "    \n",
    "    if check != 0:\n",
    "        return False\n",
    "    \n",
    "    return True"
   ]
  },
  {
   "cell_type": "code",
   "execution_count": 151,
   "metadata": {},
   "outputs": [],
   "source": [
    "def split_to_uv(sub_p):\n",
    "    u = \"\"\n",
    "    v = \"\"\n",
    "    check = 0\n",
    "    \n",
    "    for item in sub_p:\n",
    "        if item == \"(\":\n",
    "            check += 1\n",
    "        else:\n",
    "            check -= 1\n",
    "        \n",
    "        u += item\n",
    "        \n",
    "        if check == 0:\n",
    "            v = sub_p[len(u):len(sub_p)]\n",
    "            break\n",
    "            \n",
    "    return u, v"
   ]
  },
  {
   "cell_type": "code",
   "execution_count": 152,
   "metadata": {},
   "outputs": [],
   "source": [
    "def convert_u(u):\n",
    "    new_u = list(u[1:len(u) - 1])\n",
    "    for i in range(len(new_u)):\n",
    "        if new_u[i] == \"(\":\n",
    "            new_u[i] = \")\"\n",
    "        else:\n",
    "            new_u[i] = \"(\"\n",
    "    return \"\".join(new_u)"
   ]
  },
  {
   "cell_type": "code",
   "execution_count": 154,
   "metadata": {},
   "outputs": [
    {
     "data": {
      "text/plain": [
       "'()()()'"
      ]
     },
     "execution_count": 154,
     "metadata": {},
     "output_type": "execute_result"
    }
   ],
   "source": [
    "def recursive_convert(u, v):\n",
    "    result = \"\"\n",
    "    if u == \"\":\n",
    "        return result\n",
    "    \n",
    "    if check_complete(u):\n",
    "        new_u, new_v = split_to_uv(v)\n",
    "        result += u\n",
    "        result += recursive_convert(new_u, new_v)\n",
    "    else:\n",
    "        new_u, new_v = split_to_uv(v)\n",
    "        result += '('\n",
    "        result += recursive_convert(new_u, new_v)\n",
    "        result += \")\"\n",
    "        result += convert_u(u)\n",
    "    \n",
    "    return result\n",
    "\n",
    "if check_complete(p):\n",
    "    result = p\n",
    "else:\n",
    "    u, v = split_to_uv(p)\n",
    "    result = recursive_convert(u, v)\n",
    "result"
   ]
  },
  {
   "cell_type": "code",
   "execution_count": null,
   "metadata": {},
   "outputs": [],
   "source": []
  }
 ],
 "metadata": {
  "kernelspec": {
   "display_name": "Python 3",
   "language": "python",
   "name": "python3"
  },
  "language_info": {
   "codemirror_mode": {
    "name": "ipython",
    "version": 3
   },
   "file_extension": ".py",
   "mimetype": "text/x-python",
   "name": "python",
   "nbconvert_exporter": "python",
   "pygments_lexer": "ipython3",
   "version": "3.7.4"
  }
 },
 "nbformat": 4,
 "nbformat_minor": 2
}
