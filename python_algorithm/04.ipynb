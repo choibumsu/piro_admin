{
 "cells": [
  {
   "cell_type": "code",
   "execution_count": 213,
   "metadata": {},
   "outputs": [
    {
     "name": "stdout",
     "output_type": "stream",
     "text": [
      "abababcccc\n"
     ]
    }
   ],
   "source": [
    "word = input()"
   ]
  },
  {
   "cell_type": "code",
   "execution_count": 214,
   "metadata": {},
   "outputs": [
    {
     "data": {
      "text/plain": [
       "10"
      ]
     },
     "execution_count": 214,
     "metadata": {},
     "output_type": "execute_result"
    }
   ],
   "source": [
    "len(word)"
   ]
  },
  {
   "cell_type": "code",
   "execution_count": 215,
   "metadata": {},
   "outputs": [],
   "source": [
    "def compress_word(word_list, cut_size):\n",
    "    compress_size = len(word)\n",
    "    last_word = 0\n",
    "    \n",
    "    for i in range(len(word_list) - 1):\n",
    "        if word_list[i] == word_list[i+1]:\n",
    "            compress_size -= cut_size\n",
    "        \n",
    "            if last_word != word_list[i]:\n",
    "                compress_size += 1\n",
    "                last_word = word_list[i]\n",
    "    \n",
    "    return compress_size"
   ]
  },
  {
   "cell_type": "code",
   "execution_count": 216,
   "metadata": {},
   "outputs": [],
   "source": [
    "sizes = []\n",
    "for cut_size in range(1, int(len(word)/2) + 1):\n",
    "    cuted_word = [word[x:x + cut_size] for x in range(0, len(word), cut_size)]\n",
    "    sizes.append(compress_word(cuted_word, cut_size))"
   ]
  },
  {
   "cell_type": "code",
   "execution_count": 217,
   "metadata": {},
   "outputs": [
    {
     "data": {
      "text/plain": [
       "6"
      ]
     },
     "execution_count": 217,
     "metadata": {},
     "output_type": "execute_result"
    }
   ],
   "source": [
    "sizes.sort()\n",
    "result_size = sizes[0]\n",
    "result_size"
   ]
  },
  {
   "cell_type": "code",
   "execution_count": null,
   "metadata": {},
   "outputs": [],
   "source": []
  }
 ],
 "metadata": {
  "kernelspec": {
   "display_name": "Python 3",
   "language": "python",
   "name": "python3"
  },
  "language_info": {
   "codemirror_mode": {
    "name": "ipython",
    "version": 3
   },
   "file_extension": ".py",
   "mimetype": "text/x-python",
   "name": "python",
   "nbconvert_exporter": "python",
   "pygments_lexer": "ipython3",
   "version": "3.7.4"
  }
 },
 "nbformat": 4,
 "nbformat_minor": 2
}
